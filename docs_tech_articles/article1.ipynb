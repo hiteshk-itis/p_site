{
  "cells": [
    {
      "cell_type": "raw",
      "metadata": {},
      "source": [
        "---\n",
        "title: \"Tech Article 1\"\n",
        "description: \"about how the article will be shown on the page.\"\n",
        "date: \"July 29, 2024\"\n",
        "category: \"Machine Learning\"\n",
        "---"
      ],
      "id": "40223191"
    },
    {
      "cell_type": "code",
      "metadata": {},
      "source": [
        "2+3"
      ],
      "id": "e52d8560",
      "execution_count": null,
      "outputs": []
    }
  ],
  "metadata": {
    "kernelspec": {
      "name": "courserecosys",
      "language": "python",
      "display_name": "courseRecoSys"
    }
  },
  "nbformat": 4,
  "nbformat_minor": 5
}